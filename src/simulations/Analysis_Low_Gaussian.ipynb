{
 "cells": [
  {
   "cell_type": "code",
   "execution_count": 1,
   "id": "611accd5-c0d5-4eec-9561-410d8d409f1b",
   "metadata": {},
   "outputs": [],
   "source": [
    "import glob"
   ]
  },
  {
   "cell_type": "code",
   "execution_count": 2,
   "id": "204a9e60-405d-4e2e-93e5-e4fadf6a5abc",
   "metadata": {},
   "outputs": [],
   "source": [
    "data_dir='/sdf/data/ad/ard-online/Simulations/FACET-II_Injector_Gaussian/Archive/*'\n",
    "\n"
   ]
  },
  {
   "cell_type": "code",
   "execution_count": 3,
   "id": "2992df85-6343-4921-9fa4-3209f18e532a",
   "metadata": {},
   "outputs": [],
   "source": [
    "files=glob.glob(data_dir)"
   ]
  },
  {
   "cell_type": "code",
   "execution_count": 4,
   "id": "d9329bea-bbb1-40b7-b1b4-b5613f89d4f3",
   "metadata": {},
   "outputs": [
    {
     "data": {
      "text/plain": [
       "845093"
      ]
     },
     "execution_count": 4,
     "metadata": {},
     "output_type": "execute_result"
    }
   ],
   "source": [
    "len(files)"
   ]
  },
  {
   "cell_type": "code",
   "execution_count": 5,
   "id": "e0d3d8b9-5bdd-46a5-8d0f-e9b28c5ce0d0",
   "metadata": {},
   "outputs": [],
   "source": [
    "settings=['SOL10111:solenoid_field_scale','CQ10121:b1_gradient','SQ10122:b1_gradient',\n",
    "          'QA10361:b1_gradient','QA10371:b1_gradient','QE10425:b1_gradient',\n",
    "    'QE10441:b1_gradient',\n",
    "    'QE10511:b1_gradient',\n",
    "    'QE10525:b1_gradient',\n",
    "    'L0AF_phase:theta0_deg',\n",
    "    'L0AF_scale:rf_field_scale',\n",
    "    'L0BF_phase:theta0_deg',\n",
    "    'L0BF_scale:rf_field_scale',\n",
    "    'GUNF:rf_field_scale',\n",
    "    'GUNF:theta0_deg']\n",
    "    # 'distgen:total_charge',\n",
    "    # 'distgen:r_dist:sigma_xy:value',\n",
    "    # 'distgen:r_dist:truncation_radius:value',\n",
    "    # 'distgen:start:MTE:value',\n",
    "    # 'distgen:t_dist:sigma_t:value']"
   ]
  },
  {
   "cell_type": "code",
   "execution_count": 6,
   "id": "cf574922-b287-4f7a-b2b6-55796cc6323d",
   "metadata": {},
   "outputs": [
    {
     "name": "stdout",
     "output_type": "stream",
     "text": [
      "-0.2329333588708664\n",
      "0.0009567021828701534\n",
      "1.0005499321899506e-12\n"
     ]
    },
    {
     "data": {
      "text/plain": [
       "{'_settable_array_keys': ['x',\n",
       "  'px',\n",
       "  'y',\n",
       "  'py',\n",
       "  'z',\n",
       "  'pz',\n",
       "  't',\n",
       "  'status',\n",
       "  'weight'],\n",
       " '_settable_scalar_keys': ['species'],\n",
       " '_settable_keys': ['x',\n",
       "  'px',\n",
       "  'y',\n",
       "  'py',\n",
       "  'z',\n",
       "  'pz',\n",
       "  't',\n",
       "  'status',\n",
       "  'weight',\n",
       "  'species'],\n",
       " '_data': {'x': array([0.00073642, 0.00157952, 0.00118366, ..., 0.00145524, 0.00105394,\n",
       "         0.00186152]),\n",
       "  'px': array([ -15.10565762,  154.42758807,  385.97780028, ...,  330.3393964 ,\n",
       "         -453.10486948, -187.01151785]),\n",
       "  'y': array([ 2.56223321e-06,  1.01617845e-05,  1.13895353e-05, ...,\n",
       "         -1.34385323e-05, -6.35586655e-06, -5.58503303e-06]),\n",
       "  'py': array([ 206.51164295,  382.16951763, -569.99611155, ..., -675.34386208,\n",
       "         -321.87287161, -166.04979895]),\n",
       "  'z': array([0., 0., 0., ..., 0., 0., 0.]),\n",
       "  'pz': array([419.27936964, 285.20604427, 187.54406978, ..., 165.15885117,\n",
       "         256.78424722, 374.70578762]),\n",
       "  't': array([-1.90003926e-12, -2.91005776e-12, -3.86410177e-12, ...,\n",
       "         -3.58419325e-12, -2.01676908e-12, -2.98208863e-12]),\n",
       "  'status': array([1, 1, 1, ..., 1, 1, 1]),\n",
       "  'weight': array([7.10920592e-13, 7.10920592e-13, 7.10920592e-13, ...,\n",
       "         7.10920592e-13, 7.10920592e-13, 7.10920592e-13]),\n",
       "  'species': 'electron'}}"
      ]
     },
     "execution_count": 6,
     "metadata": {},
     "output_type": "execute_result"
    }
   ],
   "source": [
    "I=Impact()\n",
    "I.load_archive(files[0])\n",
    "print(I['SOL10111:solenoid_field_scale'])\n",
    "print(np.std(I['particles']['initial_particles']['x']))\n",
    "print(np.std(I['particles']['initial_particles']['t']))\n",
    "vars(I['particles']['initial_particles'])"
   ]
  },
  {
   "cell_type": "code",
   "execution_count": 7,
   "id": "4185c5df-5bc1-40ab-915a-d2924d06ca0a",
   "metadata": {},
   "outputs": [],
   "source": [
    "# %%time\n",
    "# Nlist=[]\n",
    "# for file in files:\n",
    "#     I=Impact()\n",
    "#     I.load_archive(files[0])\n",
    "#     I['particles']['PR10571']\n",
    "#     Nlist.append(len(I['particles']['PR10571']['x']))\n",
    "# Nlist=np.array(Nlist)    "
   ]
  },
  {
   "cell_type": "code",
   "execution_count": 8,
   "id": "8320499a-4a63-409f-ae1b-f7563508036a",
   "metadata": {},
   "outputs": [
    {
     "data": {
      "text/plain": [
       "0.00013565688"
      ]
     },
     "execution_count": 8,
     "metadata": {},
     "output_type": "execute_result"
    }
   ],
   "source": [
    "I['output']['stats']['norm_emit_x'][-1]"
   ]
  },
  {
   "cell_type": "code",
   "execution_count": 9,
   "id": "82dc0d69-450e-4f48-a93a-1f94a321617f",
   "metadata": {},
   "outputs": [
    {
     "data": {
      "text/plain": [
       "1718783108.7448158"
      ]
     },
     "execution_count": 9,
     "metadata": {},
     "output_type": "execute_result"
    }
   ],
   "source": [
    "I['output']['run_info']['start_time']"
   ]
  },
  {
   "cell_type": "code",
   "execution_count": 18,
   "id": "d98928fd-5a54-4f1d-9c6b-bcb2448b5aef",
   "metadata": {},
   "outputs": [],
   "source": [
    "def calc_N(file):\n",
    "    # print(file)\n",
    "    I=Impact()\n",
    "    try:\n",
    "        I.load_archive(file)\n",
    "    except:\n",
    "        N=float('Nan')\n",
    "        stdx=float('Nan')\n",
    "        stdy=float('Nan')\n",
    "        N241=float('Nan')\n",
    "        s=float('Nan')\n",
    "        normemit=float('Nan')\n",
    "        t=float('Nan')\n",
    "        init=float('Nan')\n",
    "        return N,stdx,stdy,s,N241,normemit,t,init\n",
    "    s={}\n",
    "    try:\n",
    "        N=len(I['particles']['PR10571']['x'])\n",
    "        stdx=np.std(I['particles']['PR10571']['x'])\n",
    "        stdy=np.std(I['particles']['PR10571']['y'])\n",
    "        normemit=I['output']['stats']['norm_emit_x'][-1]\n",
    "        t=I['output']['run_info']['start_time']\n",
    "        \n",
    "        \n",
    "        \n",
    "    except:\n",
    "        N=0\n",
    "        stdx=float('NaN')\n",
    "        stdy=float('NaN')\n",
    "        normemit=float('Nan')\n",
    "        t=float('Nan')\n",
    "    init={}\n",
    "    try:\n",
    "        init['stdx']=np.std(I['particles']['initial_particles']['x'])\n",
    "        init['stdy']=np.std(I['particles']['initial_particles']['y'])\n",
    "        init['stdt']=np.std(I['particles']['initial_particles']['t'])\n",
    "        init['stdpx']=np.std(I['particles']['initial_particles']['px'])\n",
    "        init['stdpy']=np.std(I['particles']['initial_particles']['py'])\n",
    "        init['stdpz']=np.std(I['particles']['initial_particles']['pz'])\n",
    "    except:\n",
    "        init['stdx']=float('NaN')\n",
    "        init['stdy']=float('NaN')\n",
    "        init['stdt']=float('NaN')\n",
    "        init['stdpx']=float('NaN')\n",
    "        init['stdpy']=float('NaN')\n",
    "        init['stdpz']=float('NaN')\n",
    "    try:\n",
    "        N241=len(I['particles']['PR10241']['x'])\n",
    "    except:\n",
    "        N241=0\n",
    "\n",
    "    for setting in settings:\n",
    "        s[setting]=I[setting]\n",
    "\n",
    "    try:\n",
    "        s['charge']=I['particles']['PR10571']['weight'][0]*2e5\n",
    "    except:\n",
    "        s['charge']=np.sum(I['initial_particles']['weight'])\n",
    "    return N,stdx,stdy,s,N241,normemit,t,init"
   ]
  },
  {
   "cell_type": "code",
   "execution_count": 19,
   "id": "afb02349-daf6-4d9f-a03b-849aed70f404",
   "metadata": {},
   "outputs": [],
   "source": [
    "# def calc_N(file):\n",
    "#     # print(file)\n",
    "#     I=Impact()\n",
    "#     I.load_archive(file)\n",
    "#     N=len(I['particles']['PR10571']['x'])\n",
    "#     return N"
   ]
  },
  {
   "cell_type": "code",
   "execution_count": 20,
   "id": "4dec7ce2-f147-4661-b728-0849c047d8a7",
   "metadata": {},
   "outputs": [
    {
     "data": {
      "text/plain": [
       "845093"
      ]
     },
     "execution_count": 20,
     "metadata": {},
     "output_type": "execute_result"
    }
   ],
   "source": [
    "filestest=files[0:]\n",
    "\n",
    "len(filestest)"
   ]
  },
  {
   "cell_type": "code",
   "execution_count": 21,
   "id": "6730ed69-f771-40e6-ab7d-20be7db7cf5b",
   "metadata": {},
   "outputs": [],
   "source": [
    "Nlist,stdx,stdy,s,N241,normemit,t,init =calc_N(files[0])"
   ]
  },
  {
   "cell_type": "code",
   "execution_count": 22,
   "id": "fc5c9d7e-cfb6-46b7-80fd-838c93a9de73",
   "metadata": {},
   "outputs": [
    {
     "data": {
      "text/plain": [
       "2000"
      ]
     },
     "execution_count": 22,
     "metadata": {},
     "output_type": "execute_result"
    }
   ],
   "source": [
    "N241"
   ]
  },
  {
   "cell_type": "code",
   "execution_count": 23,
   "id": "7bfcab40-b82e-48c8-8808-a21ea5a012e5",
   "metadata": {},
   "outputs": [],
   "source": [
    "import concurrent"
   ]
  },
  {
   "cell_type": "code",
   "execution_count": 24,
   "id": "9f700647-72f0-410b-b466-1f8c58c03af6",
   "metadata": {},
   "outputs": [
    {
     "name": "stdout",
     "output_type": "stream",
     "text": [
      "CPU times: user 6min 46s, sys: 53.7 s, total: 7min 39s\n",
      "Wall time: 16min 9s\n"
     ]
    }
   ],
   "source": [
    "%%time\n",
    "with concurrent.futures.ProcessPoolExecutor() as pool:\n",
    "    Nlist,stdx,stdy,s,N241,normemit,t,init = zip(*pool.map(calc_N, filestest))"
   ]
  },
  {
   "cell_type": "code",
   "execution_count": 25,
   "id": "71b96ef7-3ebf-4676-85be-bbb7aef5eba1",
   "metadata": {},
   "outputs": [],
   "source": [
    "N=[]\n",
    "for item in Nlist:\n",
    "    try:\n",
    "        N.append(int(item))\n",
    "    except:\n",
    "        N.append(0)"
   ]
  },
  {
   "cell_type": "code",
   "execution_count": 26,
   "id": "a4d21653-663d-40c5-9a85-6a799b3e3165",
   "metadata": {},
   "outputs": [],
   "source": [
    "N2=[]\n",
    "for item in N241:\n",
    "    try:\n",
    "        N2.append(int(item))\n",
    "    except:\n",
    "        N2.append(0)"
   ]
  },
  {
   "cell_type": "code",
   "execution_count": 27,
   "id": "b4d86f20-e252-477b-a507-ca1d23b50a95",
   "metadata": {},
   "outputs": [
    {
     "data": {
      "text/plain": [
       "845093"
      ]
     },
     "execution_count": 27,
     "metadata": {},
     "output_type": "execute_result"
    }
   ],
   "source": [
    "len(s)"
   ]
  },
  {
   "cell_type": "code",
   "execution_count": 28,
   "id": "b391f418-1b1b-4a66-8570-6d84ebf36aa9",
   "metadata": {},
   "outputs": [
    {
     "data": {
      "text/plain": [
       "(array([124989.,  47888.,  36099.,  31814.,  29572.,  30134.,  33949.,\n",
       "         53010.,  86225., 371412.]),\n",
       " array([   0.,  200.,  400.,  600.,  800., 1000., 1200., 1400., 1600.,\n",
       "        1800., 2000.]),\n",
       " <BarContainer object of 10 artists>)"
      ]
     },
     "execution_count": 28,
     "metadata": {},
     "output_type": "execute_result"
    },
    {
     "data": {
      "image/png": "[encoded data removed]",
      "text/plain": [
       "<Figure size 640x480 with 1 Axes>"
      ]
     },
     "metadata": {},
     "output_type": "display_data"
    }
   ],
   "source": [
    "plt.hist(np.array(Nlist))"
   ]
  },
  {
   "cell_type": "code",
   "execution_count": 29,
   "id": "a90697ec-15e4-4134-a88e-0e154ddb5562",
   "metadata": {},
   "outputs": [],
   "source": [
    "idx2=(np.array(Nlist)>1500)\n"
   ]
  },
  {
   "cell_type": "code",
   "execution_count": 30,
   "id": "f39b6aca-743b-4938-994e-99ff46717899",
   "metadata": {},
   "outputs": [],
   "source": [
    "idx1=(np.array(normemit)<2e-5)"
   ]
  },
  {
   "cell_type": "code",
   "execution_count": 31,
   "id": "89caeaff-dc19-408e-bc21-63185b2893f0",
   "metadata": {},
   "outputs": [
    {
     "data": {
      "text/plain": [
       "383813"
      ]
     },
     "execution_count": 31,
     "metadata": {},
     "output_type": "execute_result"
    }
   ],
   "source": [
    "np.sum(idx1 & idx2)"
   ]
  },
  {
   "cell_type": "code",
   "execution_count": 32,
   "id": "770588b8-9640-44d8-972e-4d9eebf37ed0",
   "metadata": {},
   "outputs": [
    {
     "data": {
      "text/plain": [
       "2000"
      ]
     },
     "execution_count": 32,
     "metadata": {},
     "output_type": "execute_result"
    }
   ],
   "source": [
    "max(N2)"
   ]
  },
  {
   "cell_type": "code",
   "execution_count": 33,
   "id": "9596fd22-fc18-45ff-88cc-2f9073c71005",
   "metadata": {},
   "outputs": [],
   "source": [
    "ts=np.array(t)\n",
    "iii=np.argsort(ts)\n",
    "idx=(idx1 & idx2)\n",
    "\n",
    "tt=ts[iii]\n",
    "idxs=idx[iii]"
   ]
  },
  {
   "cell_type": "code",
   "execution_count": 34,
   "id": "04101be0-a27f-4d9b-9a11-363452b8e0a3",
   "metadata": {},
   "outputs": [
    {
     "data": {
      "text/plain": [
       "845093"
      ]
     },
     "execution_count": 34,
     "metadata": {},
     "output_type": "execute_result"
    }
   ],
   "source": [
    "len(tt)\n",
    "len(ts)"
   ]
  },
  {
   "cell_type": "code",
   "execution_count": 35,
   "id": "b4ca613f-be9c-442f-b602-5c681e58f6e5",
   "metadata": {},
   "outputs": [
    {
     "data": {
      "text/plain": [
       "Text(0, 0.5, 'Valid Samples')"
      ]
     },
     "execution_count": 35,
     "metadata": {},
     "output_type": "execute_result"
    },
    {
     "data": {
      "image/png": "[encoded data removed]",
      "text/plain": [
       "<Figure size 640x480 with 1 Axes>"
      ]
     },
     "metadata": {},
     "output_type": "display_data"
    }
   ],
   "source": [
    "plt.plot(tt-min(tt),np.cumsum(idxs))\n",
    "plt.xlabel('Elapsed Time')\n",
    "plt.ylabel('Valid Samples')\n"
   ]
  },
  {
   "cell_type": "code",
   "execution_count": 36,
   "id": "dc350302-e393-4c72-803b-13b9555d7119",
   "metadata": {},
   "outputs": [],
   "source": [
    "idx=(idx1 & idx2)"
   ]
  },
  {
   "cell_type": "code",
   "execution_count": 37,
   "id": "32f49878-2177-402d-95e1-eaec0086f190",
   "metadata": {},
   "outputs": [
    {
     "data": {
      "text/plain": [
       "(array([1.00000e+00, 0.00000e+00, 0.00000e+00, 0.00000e+00, 0.00000e+00,\n",
       "        0.00000e+00, 0.00000e+00, 0.00000e+00, 3.40000e+01, 8.45058e+05]),\n",
       " array([   0.,  200.,  400.,  600.,  800., 1000., 1200., 1400., 1600.,\n",
       "        1800., 2000.]),\n",
       " <BarContainer object of 10 artists>)"
      ]
     },
     "execution_count": 37,
     "metadata": {},
     "output_type": "execute_result"
    },
    {
     "data": {
      "image/png": "[encoded data removed]",
      "text/plain": [
       "<Figure size 640x480 with 1 Axes>"
      ]
     },
     "metadata": {},
     "output_type": "display_data"
    }
   ],
   "source": [
    "plt.hist(np.array(N2))"
   ]
  },
  {
   "cell_type": "code",
   "execution_count": 38,
   "id": "6e96329e-42e7-4ef4-8d05-8c72a318f5ef",
   "metadata": {},
   "outputs": [
    {
     "data": {
      "text/plain": [
       "0"
      ]
     },
     "execution_count": 38,
     "metadata": {},
     "output_type": "execute_result"
    }
   ],
   "source": [
    "sum(np.array(N2)>=190000)"
   ]
  },
  {
   "cell_type": "code",
   "execution_count": 42,
   "id": "f090073d-a699-47a0-b703-416c41d7d054",
   "metadata": {},
   "outputs": [
    {
     "ename": "AttributeError",
     "evalue": "'float' object has no attribute 'keys'",
     "output_type": "error",
     "traceback": [
      "\u001b[0;31m---------------------------------------------------------------------------\u001b[0m",
      "\u001b[0;31mAttributeError\u001b[0m                            Traceback (most recent call last)",
      "Cell \u001b[0;32mIn[42], line 1\u001b[0m\n\u001b[0;32m----> 1\u001b[0m settingsRead\u001b[38;5;241m=\u001b[39m\u001b[43mpd\u001b[49m\u001b[38;5;241;43m.\u001b[39;49m\u001b[43mDataFrame\u001b[49m\u001b[43m(\u001b[49m\u001b[43ms\u001b[49m\u001b[43m)\u001b[49m\n",
      "File \u001b[0;32m~/conda/envs/xopt/lib/python3.9/site-packages/pandas/core/frame.py:851\u001b[0m, in \u001b[0;36mDataFrame.__init__\u001b[0;34m(self, data, index, columns, dtype, copy)\u001b[0m\n\u001b[1;32m    849\u001b[0m     \u001b[38;5;28;01mif\u001b[39;00m columns \u001b[38;5;129;01mis\u001b[39;00m \u001b[38;5;129;01mnot\u001b[39;00m \u001b[38;5;28;01mNone\u001b[39;00m:\n\u001b[1;32m    850\u001b[0m         columns \u001b[38;5;241m=\u001b[39m ensure_index(columns)\n\u001b[0;32m--> 851\u001b[0m     arrays, columns, index \u001b[38;5;241m=\u001b[39m \u001b[43mnested_data_to_arrays\u001b[49m\u001b[43m(\u001b[49m\n\u001b[1;32m    852\u001b[0m \u001b[43m        \u001b[49m\u001b[38;5;66;43;03m# error: Argument 3 to \"nested_data_to_arrays\" has incompatible\u001b[39;49;00m\n\u001b[1;32m    853\u001b[0m \u001b[43m        \u001b[49m\u001b[38;5;66;43;03m# type \"Optional[Collection[Any]]\"; expected \"Optional[Index]\"\u001b[39;49;00m\n\u001b[1;32m    854\u001b[0m \u001b[43m        \u001b[49m\u001b[43mdata\u001b[49m\u001b[43m,\u001b[49m\n\u001b[1;32m    855\u001b[0m \u001b[43m        \u001b[49m\u001b[43mcolumns\u001b[49m\u001b[43m,\u001b[49m\n\u001b[1;32m    856\u001b[0m \u001b[43m        \u001b[49m\u001b[43mindex\u001b[49m\u001b[43m,\u001b[49m\u001b[43m  \u001b[49m\u001b[38;5;66;43;03m# type: ignore[arg-type]\u001b[39;49;00m\n\u001b[1;32m    857\u001b[0m \u001b[43m        \u001b[49m\u001b[43mdtype\u001b[49m\u001b[43m,\u001b[49m\n\u001b[1;32m    858\u001b[0m \u001b[43m    \u001b[49m\u001b[43m)\u001b[49m\n\u001b[1;32m    859\u001b[0m     mgr \u001b[38;5;241m=\u001b[39m arrays_to_mgr(\n\u001b[1;32m    860\u001b[0m         arrays,\n\u001b[1;32m    861\u001b[0m         columns,\n\u001b[0;32m   (...)\u001b[0m\n\u001b[1;32m    864\u001b[0m         typ\u001b[38;5;241m=\u001b[39mmanager,\n\u001b[1;32m    865\u001b[0m     )\n\u001b[1;32m    866\u001b[0m \u001b[38;5;28;01melse\u001b[39;00m:\n",
      "File \u001b[0;32m~/conda/envs/xopt/lib/python3.9/site-packages/pandas/core/internals/construction.py:520\u001b[0m, in \u001b[0;36mnested_data_to_arrays\u001b[0;34m(data, columns, index, dtype)\u001b[0m\n\u001b[1;32m    517\u001b[0m \u001b[38;5;28;01mif\u001b[39;00m is_named_tuple(data[\u001b[38;5;241m0\u001b[39m]) \u001b[38;5;129;01mand\u001b[39;00m columns \u001b[38;5;129;01mis\u001b[39;00m \u001b[38;5;28;01mNone\u001b[39;00m:\n\u001b[1;32m    518\u001b[0m     columns \u001b[38;5;241m=\u001b[39m ensure_index(data[\u001b[38;5;241m0\u001b[39m]\u001b[38;5;241m.\u001b[39m_fields)\n\u001b[0;32m--> 520\u001b[0m arrays, columns \u001b[38;5;241m=\u001b[39m \u001b[43mto_arrays\u001b[49m\u001b[43m(\u001b[49m\u001b[43mdata\u001b[49m\u001b[43m,\u001b[49m\u001b[43m \u001b[49m\u001b[43mcolumns\u001b[49m\u001b[43m,\u001b[49m\u001b[43m \u001b[49m\u001b[43mdtype\u001b[49m\u001b[38;5;241;43m=\u001b[39;49m\u001b[43mdtype\u001b[49m\u001b[43m)\u001b[49m\n\u001b[1;32m    521\u001b[0m columns \u001b[38;5;241m=\u001b[39m ensure_index(columns)\n\u001b[1;32m    523\u001b[0m \u001b[38;5;28;01mif\u001b[39;00m index \u001b[38;5;129;01mis\u001b[39;00m \u001b[38;5;28;01mNone\u001b[39;00m:\n",
      "File \u001b[0;32m~/conda/envs/xopt/lib/python3.9/site-packages/pandas/core/internals/construction.py:837\u001b[0m, in \u001b[0;36mto_arrays\u001b[0;34m(data, columns, dtype)\u001b[0m\n\u001b[1;32m    835\u001b[0m     arr \u001b[38;5;241m=\u001b[39m _list_to_arrays(data)\n\u001b[1;32m    836\u001b[0m \u001b[38;5;28;01melif\u001b[39;00m \u001b[38;5;28misinstance\u001b[39m(data[\u001b[38;5;241m0\u001b[39m], abc\u001b[38;5;241m.\u001b[39mMapping):\n\u001b[0;32m--> 837\u001b[0m     arr, columns \u001b[38;5;241m=\u001b[39m \u001b[43m_list_of_dict_to_arrays\u001b[49m\u001b[43m(\u001b[49m\u001b[43mdata\u001b[49m\u001b[43m,\u001b[49m\u001b[43m \u001b[49m\u001b[43mcolumns\u001b[49m\u001b[43m)\u001b[49m\n\u001b[1;32m    838\u001b[0m \u001b[38;5;28;01melif\u001b[39;00m \u001b[38;5;28misinstance\u001b[39m(data[\u001b[38;5;241m0\u001b[39m], ABCSeries):\n\u001b[1;32m    839\u001b[0m     arr, columns \u001b[38;5;241m=\u001b[39m _list_of_series_to_arrays(data, columns)\n",
      "File \u001b[0;32m~/conda/envs/xopt/lib/python3.9/site-packages/pandas/core/internals/construction.py:917\u001b[0m, in \u001b[0;36m_list_of_dict_to_arrays\u001b[0;34m(data, columns)\u001b[0m\n\u001b[1;32m    915\u001b[0m     gen \u001b[38;5;241m=\u001b[39m (\u001b[38;5;28mlist\u001b[39m(x\u001b[38;5;241m.\u001b[39mkeys()) \u001b[38;5;28;01mfor\u001b[39;00m x \u001b[38;5;129;01min\u001b[39;00m data)\n\u001b[1;32m    916\u001b[0m     sort \u001b[38;5;241m=\u001b[39m \u001b[38;5;129;01mnot\u001b[39;00m \u001b[38;5;28many\u001b[39m(\u001b[38;5;28misinstance\u001b[39m(d, \u001b[38;5;28mdict\u001b[39m) \u001b[38;5;28;01mfor\u001b[39;00m d \u001b[38;5;129;01min\u001b[39;00m data)\n\u001b[0;32m--> 917\u001b[0m     pre_cols \u001b[38;5;241m=\u001b[39m \u001b[43mlib\u001b[49m\u001b[38;5;241;43m.\u001b[39;49m\u001b[43mfast_unique_multiple_list_gen\u001b[49m\u001b[43m(\u001b[49m\u001b[43mgen\u001b[49m\u001b[43m,\u001b[49m\u001b[43m \u001b[49m\u001b[43msort\u001b[49m\u001b[38;5;241;43m=\u001b[39;49m\u001b[43msort\u001b[49m\u001b[43m)\u001b[49m\n\u001b[1;32m    918\u001b[0m     columns \u001b[38;5;241m=\u001b[39m ensure_index(pre_cols)\n\u001b[1;32m    920\u001b[0m \u001b[38;5;66;03m# assure that they are of the base dict class and not of derived\u001b[39;00m\n\u001b[1;32m    921\u001b[0m \u001b[38;5;66;03m# classes\u001b[39;00m\n",
      "File \u001b[0;32mlib.pyx:367\u001b[0m, in \u001b[0;36mpandas._libs.lib.fast_unique_multiple_list_gen\u001b[0;34m()\u001b[0m\n",
      "File \u001b[0;32m~/conda/envs/xopt/lib/python3.9/site-packages/pandas/core/internals/construction.py:915\u001b[0m, in \u001b[0;36m<genexpr>\u001b[0;34m(.0)\u001b[0m\n\u001b[1;32m    895\u001b[0m \u001b[38;5;250m\u001b[39m\u001b[38;5;124;03m\"\"\"\u001b[39;00m\n\u001b[1;32m    896\u001b[0m \u001b[38;5;124;03mConvert list of dicts to numpy arrays\u001b[39;00m\n\u001b[1;32m    897\u001b[0m \n\u001b[0;32m   (...)\u001b[0m\n\u001b[1;32m    912\u001b[0m \u001b[38;5;124;03mcolumns : Index\u001b[39;00m\n\u001b[1;32m    913\u001b[0m \u001b[38;5;124;03m\"\"\"\u001b[39;00m\n\u001b[1;32m    914\u001b[0m \u001b[38;5;28;01mif\u001b[39;00m columns \u001b[38;5;129;01mis\u001b[39;00m \u001b[38;5;28;01mNone\u001b[39;00m:\n\u001b[0;32m--> 915\u001b[0m     gen \u001b[38;5;241m=\u001b[39m (\u001b[38;5;28mlist\u001b[39m(\u001b[43mx\u001b[49m\u001b[38;5;241;43m.\u001b[39;49m\u001b[43mkeys\u001b[49m()) \u001b[38;5;28;01mfor\u001b[39;00m x \u001b[38;5;129;01min\u001b[39;00m data)\n\u001b[1;32m    916\u001b[0m     sort \u001b[38;5;241m=\u001b[39m \u001b[38;5;129;01mnot\u001b[39;00m \u001b[38;5;28many\u001b[39m(\u001b[38;5;28misinstance\u001b[39m(d, \u001b[38;5;28mdict\u001b[39m) \u001b[38;5;28;01mfor\u001b[39;00m d \u001b[38;5;129;01min\u001b[39;00m data)\n\u001b[1;32m    917\u001b[0m     pre_cols \u001b[38;5;241m=\u001b[39m lib\u001b[38;5;241m.\u001b[39mfast_unique_multiple_list_gen(gen, sort\u001b[38;5;241m=\u001b[39msort)\n",
      "\u001b[0;31mAttributeError\u001b[0m: 'float' object has no attribute 'keys'"
     ]
    }
   ],
   "source": [
    "settingsRead=pd.DataFrame(s)"
   ]
  },
  {
   "cell_type": "code",
   "execution_count": 43,
   "id": "2e0f7787-f844-4c3a-901e-668b2fdf4a9c",
   "metadata": {},
   "outputs": [
    {
     "ename": "NameError",
     "evalue": "name 'settingsRead' is not defined",
     "output_type": "error",
     "traceback": [
      "\u001b[0;31m---------------------------------------------------------------------------\u001b[0m",
      "\u001b[0;31mNameError\u001b[0m                                 Traceback (most recent call last)",
      "Cell \u001b[0;32mIn[43], line 1\u001b[0m\n\u001b[0;32m----> 1\u001b[0m \u001b[43msettingsRead\u001b[49m\u001b[38;5;241m.\u001b[39mhead()\n",
      "\u001b[0;31mNameError\u001b[0m: name 'settingsRead' is not defined"
     ]
    }
   ],
   "source": [
    "settingsRead.head()"
   ]
  },
  {
   "cell_type": "code",
   "execution_count": 44,
   "id": "70cc5946-4e78-4f50-8b8a-2edc045c57e4",
   "metadata": {},
   "outputs": [
    {
     "ename": "NameError",
     "evalue": "name 'settingsRead' is not defined",
     "output_type": "error",
     "traceback": [
      "\u001b[0;31m---------------------------------------------------------------------------\u001b[0m",
      "\u001b[0;31mNameError\u001b[0m                                 Traceback (most recent call last)",
      "Cell \u001b[0;32mIn[44], line 1\u001b[0m\n\u001b[0;32m----> 1\u001b[0m q\u001b[38;5;241m=\u001b[39mnp\u001b[38;5;241m.\u001b[39marray(\u001b[43msettingsRead\u001b[49m[\u001b[38;5;124m'\u001b[39m\u001b[38;5;124mcharge\u001b[39m\u001b[38;5;124m'\u001b[39m])\n",
      "\u001b[0;31mNameError\u001b[0m: name 'settingsRead' is not defined"
     ]
    }
   ],
   "source": [
    "q=np.array(settingsRead['charge'])"
   ]
  },
  {
   "cell_type": "code",
   "execution_count": 45,
   "id": "c2629548-8bbb-4515-86bb-40b210432723",
   "metadata": {},
   "outputs": [
    {
     "ename": "NameError",
     "evalue": "name 'q' is not defined",
     "output_type": "error",
     "traceback": [
      "\u001b[0;31m---------------------------------------------------------------------------\u001b[0m",
      "\u001b[0;31mNameError\u001b[0m                                 Traceback (most recent call last)",
      "Cell \u001b[0;32mIn[45], line 1\u001b[0m\n\u001b[0;32m----> 1\u001b[0m \u001b[43mq\u001b[49m\n",
      "\u001b[0;31mNameError\u001b[0m: name 'q' is not defined"
     ]
    }
   ],
   "source": [
    "q"
   ]
  },
  {
   "cell_type": "code",
   "execution_count": 40,
   "id": "b3f7dc09-40be-4571-9215-8bbd8746e244",
   "metadata": {},
   "outputs": [
    {
     "ename": "NameError",
     "evalue": "name 'q' is not defined",
     "output_type": "error",
     "traceback": [
      "\u001b[0;31m---------------------------------------------------------------------------\u001b[0m",
      "\u001b[0;31mNameError\u001b[0m                                 Traceback (most recent call last)",
      "Cell \u001b[0;32mIn[40], line 1\u001b[0m\n\u001b[0;32m----> 1\u001b[0m plt\u001b[38;5;241m.\u001b[39mscatter(\u001b[43mq\u001b[49m,N2)\n",
      "\u001b[0;31mNameError\u001b[0m: name 'q' is not defined"
     ]
    }
   ],
   "source": [
    "plt.scatter(q,N2)"
   ]
  },
  {
   "cell_type": "code",
   "execution_count": 41,
   "id": "609bc9cf-12a0-4f10-b1e1-2375f880f193",
   "metadata": {},
   "outputs": [
    {
     "ename": "NameError",
     "evalue": "name 'settingsRead' is not defined",
     "output_type": "error",
     "traceback": [
      "\u001b[0;31m---------------------------------------------------------------------------\u001b[0m",
      "\u001b[0;31mNameError\u001b[0m                                 Traceback (most recent call last)",
      "Cell \u001b[0;32mIn[41], line 1\u001b[0m\n\u001b[0;32m----> 1\u001b[0m VCL\u001b[38;5;241m=\u001b[39mnp\u001b[38;5;241m.\u001b[39mpi\u001b[38;5;241m*\u001b[39m \u001b[38;5;241m8.854e-12\u001b[39m \u001b[38;5;241m*\u001b[39m np\u001b[38;5;241m.\u001b[39marray(\u001b[43msettingsRead\u001b[49m[\u001b[38;5;124m'\u001b[39m\u001b[38;5;124mGUNF:rf_field_scale\u001b[39m\u001b[38;5;124m'\u001b[39m]) \u001b[38;5;241m*\u001b[39m np\u001b[38;5;241m.\u001b[39mcos(np\u001b[38;5;241m.\u001b[39marray(settingsRead[\u001b[38;5;124m'\u001b[39m\u001b[38;5;124mGUNF:theta0_deg\u001b[39m\u001b[38;5;124m'\u001b[39m])\u001b[38;5;241m*\u001b[39mnp\u001b[38;5;241m.\u001b[39mpi\u001b[38;5;241m/\u001b[39m\u001b[38;5;241m180\u001b[39m) \u001b[38;5;241m*\u001b[39m (\u001b[38;5;241m2.808e-3\u001b[39m)\u001b[38;5;241m*\u001b[39m\u001b[38;5;241m*\u001b[39m\u001b[38;5;241m2\u001b[39m\n",
      "\u001b[0;31mNameError\u001b[0m: name 'settingsRead' is not defined"
     ]
    }
   ],
   "source": [
    "VCL=np.pi* 8.854e-12 * np.array(settingsRead['GUNF:rf_field_scale']) * np.cos(np.array(settingsRead['GUNF:theta0_deg'])*np.pi/180) * (2.808e-3)**2"
   ]
  },
  {
   "cell_type": "code",
   "execution_count": null,
   "id": "be2874dd-581f-492c-859e-d40e3200def4",
   "metadata": {},
   "outputs": [],
   "source": [
    "plt.scatter(q/VCL,N2)"
   ]
  },
  {
   "cell_type": "code",
   "execution_count": null,
   "id": "e7d21c42-a484-4988-b1b9-bbe9dffcbde9",
   "metadata": {},
   "outputs": [],
   "source": [
    "VCL"
   ]
  },
  {
   "cell_type": "code",
   "execution_count": null,
   "id": "d6dbef93-6ac2-4d5a-ae4a-7cd9b87a9638",
   "metadata": {},
   "outputs": [],
   "source": [
    "q"
   ]
  },
  {
   "cell_type": "code",
   "execution_count": null,
   "id": "7af1aa63-7d52-4704-86d1-8f7e39c7faf5",
   "metadata": {},
   "outputs": [],
   "source": [
    "plt.scatter(np.array(settingsRead['SOL10111:solenoid_field_scale']),N2)"
   ]
  },
  {
   "cell_type": "code",
   "execution_count": null,
   "id": "7bfe7d3c-02b1-406d-9581-19c3bd164423",
   "metadata": {},
   "outputs": [],
   "source": [
    "plt.scatter(np.array(settingsRead['CQ10121:b1_gradient']),N2)"
   ]
  },
  {
   "cell_type": "code",
   "execution_count": null,
   "id": "3a41be02-3b64-441f-b424-5459fa638daa",
   "metadata": {},
   "outputs": [],
   "source": [
    "plt.scatter(np.array(settingsRead['SQ10122:b1_gradient']),N2)"
   ]
  },
  {
   "cell_type": "code",
   "execution_count": null,
   "id": "d1ec276f-45cd-4545-ac4d-e78796f8f586",
   "metadata": {},
   "outputs": [],
   "source": [
    "idx1=np.array(settingsRead['SOL10111:solenoid_field_scale'])>-0.32 \n",
    "idx2=np.array(settingsRead['SOL10111:solenoid_field_scale'])<-0.2\n",
    "\n",
    "idx3=np.array(settingsRead['CQ10121:b1_gradient'])>-0.2 \n",
    "idx4=np.array(settingsRead['CQ10121:b1_gradient'])<0.2\n",
    "\n",
    "idx5=np.array(settingsRead['SQ10122:b1_gradient'])>-0.2 \n",
    "idx6=np.array(settingsRead['SQ10122:b1_gradient'])<0.2\n",
    "\n",
    "idx=idx1&idx2&idx5&idx6&idx3&idx4\n",
    "\n",
    "plt.scatter(q[idx]/VCL[idx],np.array(N2)[idx])"
   ]
  },
  {
   "cell_type": "code",
   "execution_count": null,
   "id": "f20b8e97-7440-4f58-8a37-7431c8eccb02",
   "metadata": {},
   "outputs": [],
   "source": [
    "N571=np.array(Nlist)/np.array(N2)"
   ]
  },
  {
   "cell_type": "code",
   "execution_count": null,
   "id": "8d9ebf43-b358-4468-aacb-4157085a69b9",
   "metadata": {},
   "outputs": [],
   "source": [
    "plt.scatter(settingsRead['QA10361:b1_gradient'],N571)"
   ]
  },
  {
   "cell_type": "code",
   "execution_count": null,
   "id": "82c128df-ae09-41db-8ef4-53a180c8af74",
   "metadata": {},
   "outputs": [],
   "source": [
    "plt.scatter(settingsRead['QA10371:b1_gradient'],N571)"
   ]
  },
  {
   "cell_type": "code",
   "execution_count": null,
   "id": "6b451768-ff78-4d76-b7e3-f03bb7128613",
   "metadata": {},
   "outputs": [],
   "source": [
    "plt.scatter(settingsRead['QE10425:b1_gradient'],N571)"
   ]
  },
  {
   "cell_type": "code",
   "execution_count": null,
   "id": "bf708ec7-0b3a-4caf-94dd-691d3292ab17",
   "metadata": {},
   "outputs": [],
   "source": [
    "plt.scatter(settingsRead['QE10441:b1_gradient'],N571)"
   ]
  },
  {
   "cell_type": "code",
   "execution_count": null,
   "id": "e2549ea9-e789-4c80-bedc-ef85a1236531",
   "metadata": {},
   "outputs": [],
   "source": [
    "plt.scatter(settingsRead['QE10511:b1_gradient'],N571)"
   ]
  },
  {
   "cell_type": "code",
   "execution_count": null,
   "id": "5e1f824c-e17d-420f-a19d-d2bdfc3b1dc6",
   "metadata": {},
   "outputs": [],
   "source": [
    "plt.scatter(settingsRead['QE10525:b1_gradient'],N571)"
   ]
  },
  {
   "cell_type": "code",
   "execution_count": null,
   "id": "05f92908-d7c3-4aee-9e9e-3ea7ace1f15e",
   "metadata": {},
   "outputs": [],
   "source": [
    "plt.scatter(settingsRead['L0AF_phase:theta0_deg'],N571)"
   ]
  },
  {
   "cell_type": "code",
   "execution_count": null,
   "id": "4159365f-7744-4314-9ef3-b5609eac227d",
   "metadata": {},
   "outputs": [],
   "source": [
    "plt.scatter(settingsRead['L0AF_scale:rf_field_scale'],N571)"
   ]
  },
  {
   "cell_type": "code",
   "execution_count": null,
   "id": "2d58bdbb-d527-4d16-999f-db25ee819a6e",
   "metadata": {},
   "outputs": [],
   "source": [
    "plt.scatter(settingsRead['L0BF_phase:theta0_deg'],N571)"
   ]
  },
  {
   "cell_type": "code",
   "execution_count": null,
   "id": "edd93790-95b2-44f1-bdba-434c3f8f8f7e",
   "metadata": {},
   "outputs": [],
   "source": [
    "plt.scatter(settingsRead['L0BF_scale:rf_field_scale'],N571)"
   ]
  },
  {
   "cell_type": "code",
   "execution_count": null,
   "id": "aa052a60-53e6-43be-85b2-3ea05e3f5ab6",
   "metadata": {},
   "outputs": [],
   "source": [
    "idx1=np.array(settingsRead['QA10361:b1_gradient'])>-5\n",
    "idx2=np.array(settingsRead['QA10361:b1_gradient'])<0\n",
    "\n",
    "idx3=np.array(settingsRead['QA10371:b1_gradient'])>0\n",
    "idx4=np.array(settingsRead['QA10371:b1_gradient'])<5\n",
    "\n",
    "idx5=np.array(settingsRead['QE10425:b1_gradient'])>-10\n",
    "idx6=np.array(settingsRead['QE10425:b1_gradient'])<0\n",
    "\n",
    "idx7=np.array(settingsRead['QE10441:b1_gradient'])>0\n",
    "idx8=np.array(settingsRead['QE10441:b1_gradient'])<10\n",
    "\n",
    "idx9=np.array(settingsRead['QE10511:b1_gradient'])>0\n",
    "idx10=np.array(settingsRead['QE10511:b1_gradient'])<10\n",
    "\n",
    "idx11=np.array(settingsRead['QE10525:b1_gradient'])>-10\n",
    "idx12=np.array(settingsRead['QE10525:b1_gradient'])<0\n",
    "\n",
    "idx13=np.array(settingsRead['L0AF_phase:theta0_deg'])>-30\n",
    "idx14=np.array(settingsRead['L0AF_phase:theta0_deg'])<30\n",
    "\n",
    "idx15=np.array(settingsRead['L0AF_scale:rf_field_scale'])>28e6\n",
    "idx16=np.array(settingsRead['L0AF_scale:rf_field_scale'])<33e6\n",
    "\n",
    "idx17=np.array(settingsRead['L0BF_phase:theta0_deg'])>-30\n",
    "idx18=np.array(settingsRead['L0BF_phase:theta0_deg'])<30\n",
    "\n",
    "idx19=np.array(settingsRead['L0BF_scale:rf_field_scale'])>28e6\n",
    "idx20=np.array(settingsRead['L0BF_scale:rf_field_scale'])<33e6\n",
    "\n",
    "idx21=np.array(settingsRead['SOL10111:solenoid_field_scale'])>-0.32 \n",
    "idx22=np.array(settingsRead['SOL10111:solenoid_field_scale'])<-0.2\n",
    "\n",
    "idx23=np.array(settingsRead['CQ10121:b1_gradient'])>-0.2 \n",
    "idx24=np.array(settingsRead['CQ10121:b1_gradient'])<0.2\n",
    "\n",
    "idx25=np.array(settingsRead['SQ10122:b1_gradient'])>-0.2 \n",
    "idx26=np.array(settingsRead['SQ10122:b1_gradient'])<0.2\n",
    "\n",
    "\n",
    "\n",
    "\n",
    "idx=idx1&idx2&idx5&idx6&idx3&idx4&idx7&idx8*idx9&idx10&idx11&idx12&idx13&idx14&idx15&idx16&idx17&idx18&idx19&idx20&idx21&idx22&idx23&idx24&idx25&idx26\n",
    "\n",
    "plt.scatter(np.array(settingsRead['QE10441:b1_gradient'])[idx],np.array(N571)[idx])\n",
    "# idx7=np.array(settingsRead['QA10361:b1_gradient'])>-5\n",
    "# idx8=np.array(settingsRead['QA10361:b1_gradient'])<5\n",
    "\n",
    "# idx9=np.array(settingsRead['QA10371:b1_gradient'])>-5\n",
    "# idx10=np.array(settingsRead['QA10371:b1_gradient'])<5\n",
    "\n",
    "# idx11=np.array(settingsRead['QE10425:b1_gradient'])>-5\n",
    "# idx12=np.array(settingsRead['QE10425:b1_gradient'])<5"
   ]
  },
  {
   "cell_type": "code",
   "execution_count": null,
   "id": "c3350268-6d55-4368-bd86-51ced6442157",
   "metadata": {},
   "outputs": [],
   "source": [
    "plt.scatter(np.array(settingsRead['QE10441:b1_gradient']),np.array(N571))"
   ]
  },
  {
   "cell_type": "code",
   "execution_count": null,
   "id": "30ba2a08-e631-4d08-ab57-9d33f4ec45c3",
   "metadata": {},
   "outputs": [],
   "source": [
    "idx1=np.array(settingsRead['QA10361:b1_gradient'])>-2\n",
    "idx2=np.array(settingsRead['QA10361:b1_gradient'])<0\n",
    "\n",
    "idx3=np.array(settingsRead['QA10371:b1_gradient'])>0\n",
    "idx4=np.array(settingsRead['QA10371:b1_gradient'])<3\n",
    "\n",
    "idx5=np.array(settingsRead['QE10425:b1_gradient'])>-5\n",
    "idx6=np.array(settingsRead['QE10425:b1_gradient'])<0\n",
    "\n",
    "idx7=np.array(settingsRead['QE10441:b1_gradient'])>0\n",
    "idx8=np.array(settingsRead['QE10441:b1_gradient'])<6\n",
    "\n",
    "idx9=np.array(settingsRead['QE10511:b1_gradient'])>0\n",
    "idx10=np.array(settingsRead['QE10511:b1_gradient'])<7\n",
    "\n",
    "idx11=np.array(settingsRead['QE10525:b1_gradient'])>-7\n",
    "idx12=np.array(settingsRead['QE10525:b1_gradient'])<0\n",
    "\n",
    "idx13=np.array(settingsRead['L0AF_phase:theta0_deg'])>-30\n",
    "idx14=np.array(settingsRead['L0AF_phase:theta0_deg'])<30\n",
    "\n",
    "idx15=np.array(settingsRead['L0AF_scale:rf_field_scale'])>28e6\n",
    "idx16=np.array(settingsRead['L0AF_scale:rf_field_scale'])<33e6\n",
    "\n",
    "idx17=np.array(settingsRead['L0BF_phase:theta0_deg'])>-30\n",
    "idx18=np.array(settingsRead['L0BF_phase:theta0_deg'])<30\n",
    "\n",
    "idx19=np.array(settingsRead['L0BF_scale:rf_field_scale'])>28e6\n",
    "idx20=np.array(settingsRead['L0BF_scale:rf_field_scale'])<33e6\n",
    "\n",
    "idx21=np.array(settingsRead['SOL10111:solenoid_field_scale'])>-0.28\n",
    "idx22=np.array(settingsRead['SOL10111:solenoid_field_scale'])<-0.22\n",
    "\n",
    "idx23=np.array(settingsRead['CQ10121:b1_gradient'])>-0.2 \n",
    "idx24=np.array(settingsRead['CQ10121:b1_gradient'])<0.2\n",
    "\n",
    "idx25=np.array(settingsRead['SQ10122:b1_gradient'])>-0.2 \n",
    "idx26=np.array(settingsRead['SQ10122:b1_gradient'])<0.2\n",
    "\n",
    "\n",
    "\n",
    "\n",
    "idx=idx1&idx2&idx5&idx6&idx3&idx4&idx7&idx8*idx9&idx10&idx11&idx12&idx13&idx14&idx15&idx16&idx17&idx18&idx19&idx20&idx21&idx22&idx23&idx24&idx25&idx26\n",
    "\n",
    "plt.scatter(np.array(settingsRead['QE10441:b1_gradient'])[idx],np.array(N571)[idx])\n",
    "# idx7=np.array(settingsRead['QA10361:b1_gradient'])>-5\n",
    "# idx8=np.array(settingsRead['QA10361:b1_gradient'])<5\n",
    "\n",
    "# idx9=np.array(settingsRead['QA10371:b1_gradient'])>-5\n",
    "# idx10=np.array(settingsRead['QA10371:b1_gradient'])<5\n",
    "\n",
    "# idx11=np.array(settingsRead['QE10425:b1_gradient'])>-5\n",
    "# idx12=np.array(settingsRead['QE10425:b1_gradient'])<5"
   ]
  },
  {
   "cell_type": "code",
   "execution_count": null,
   "id": "21f22a91-423f-4eeb-8571-a6c0b022f618",
   "metadata": {},
   "outputs": [],
   "source": [
    "np.max(N571)"
   ]
  },
  {
   "cell_type": "code",
   "execution_count": null,
   "id": "980ce200-eb74-425e-ae5b-1282f1ea9022",
   "metadata": {},
   "outputs": [],
   "source": [
    "ii=np.argmax(N571)"
   ]
  },
  {
   "cell_type": "code",
   "execution_count": null,
   "id": "af2dd0f9-bba0-4a32-ac42-5be87fe799db",
   "metadata": {},
   "outputs": [],
   "source": [
    "print(ii)"
   ]
  },
  {
   "cell_type": "code",
   "execution_count": null,
   "id": "c0592b59-89e4-4d76-a421-6b7a44be0077",
   "metadata": {},
   "outputs": [],
   "source": [
    "settingsRead.iloc[ii]"
   ]
  },
  {
   "cell_type": "code",
   "execution_count": null,
   "id": "2ea8ff08-bac2-4c73-b560-e0b027db2f1c",
   "metadata": {},
   "outputs": [],
   "source": [
    "settingsRead.iloc[ii]['charge']"
   ]
  },
  {
   "cell_type": "code",
   "execution_count": null,
   "id": "d95f48ff-b3bf-437b-9f4d-2ec44e5e1293",
   "metadata": {},
   "outputs": [],
   "source": []
  },
  {
   "cell_type": "code",
   "execution_count": null,
   "id": "08c4c694-a464-48a2-8dac-9a7b7a9ad293",
   "metadata": {},
   "outputs": [],
   "source": []
  },
  {
   "cell_type": "code",
   "execution_count": null,
   "id": "f394ccdf-a881-41ca-a159-41a1e318b570",
   "metadata": {},
   "outputs": [],
   "source": []
  },
  {
   "cell_type": "code",
   "execution_count": null,
   "id": "cbf4c230-1af1-4090-9f63-f8ae6a7379f3",
   "metadata": {},
   "outputs": [],
   "source": []
  },
  {
   "cell_type": "code",
   "execution_count": null,
   "id": "e97e8227-127f-45d2-bfa9-1dd0f9f8b0a8",
   "metadata": {},
   "outputs": [],
   "source": []
  },
  {
   "cell_type": "code",
   "execution_count": null,
   "id": "62658d19-383d-4db6-a71c-ed3d7c3e2f79",
   "metadata": {},
   "outputs": [],
   "source": []
  },
  {
   "cell_type": "code",
   "execution_count": null,
   "id": "d91f40c9-234c-491e-a687-e6b256ac9d8f",
   "metadata": {},
   "outputs": [],
   "source": []
  },
  {
   "cell_type": "code",
   "execution_count": null,
   "id": "31063781-03ef-4f13-9ea1-ebf253f7a9dd",
   "metadata": {},
   "outputs": [],
   "source": []
  },
  {
   "cell_type": "code",
   "execution_count": null,
   "id": "6012b3fa-aa64-455f-a353-79211ecc5b45",
   "metadata": {},
   "outputs": [],
   "source": []
  },
  {
   "cell_type": "code",
   "execution_count": null,
   "id": "ce136efa-03af-47c4-a815-4a93a62fc84f",
   "metadata": {},
   "outputs": [],
   "source": []
  },
  {
   "cell_type": "code",
   "execution_count": null,
   "id": "28cfe4a8-7550-43c4-99f9-0064e1251093",
   "metadata": {},
   "outputs": [],
   "source": []
  },
  {
   "cell_type": "code",
   "execution_count": null,
   "id": "b816eff1-c318-4072-b931-bfeb3b23d0bd",
   "metadata": {},
   "outputs": [],
   "source": []
  },
  {
   "cell_type": "code",
   "execution_count": null,
   "id": "c56b3b9f-5db1-45f9-8cd5-cccb50b0a100",
   "metadata": {},
   "outputs": [],
   "source": []
  },
  {
   "cell_type": "code",
   "execution_count": null,
   "id": "e750ef29-f9a6-4377-afaf-1b60a1857a77",
   "metadata": {},
   "outputs": [],
   "source": []
  },
  {
   "cell_type": "code",
   "execution_count": null,
   "id": "d9edabfc-ad50-42c1-be0a-37c7ddf0d5b3",
   "metadata": {},
   "outputs": [],
   "source": []
  },
  {
   "cell_type": "code",
   "execution_count": null,
   "id": "75d2d7af-9321-4e19-b0c9-298dda384e3e",
   "metadata": {},
   "outputs": [],
   "source": []
  },
  {
   "cell_type": "code",
   "execution_count": null,
   "id": "d11da4c7-9b43-44e9-a387-a28bcc1a517e",
   "metadata": {},
   "outputs": [],
   "source": []
  },
  {
   "cell_type": "code",
   "execution_count": null,
   "id": "b78b03be-9bc8-4aad-87cc-baa1514b89d5",
   "metadata": {},
   "outputs": [],
   "source": []
  },
  {
   "cell_type": "code",
   "execution_count": null,
   "id": "6d74fe3e-2966-486e-bf90-9769649b3c96",
   "metadata": {},
   "outputs": [],
   "source": []
  },
  {
   "cell_type": "code",
   "execution_count": null,
   "id": "4b9e95cd-965b-4a22-8c1c-658b550fcbb9",
   "metadata": {},
   "outputs": [],
   "source": []
  },
  {
   "cell_type": "code",
   "execution_count": null,
   "id": "a8718d48-d8c9-487a-a6e9-7ef8dce03f21",
   "metadata": {},
   "outputs": [],
   "source": []
  },
  {
   "cell_type": "code",
   "execution_count": null,
   "id": "8161b088-43ec-4011-8636-2ef2952bf9e4",
   "metadata": {},
   "outputs": [],
   "source": []
  }
 ],
 "metadata": {
  "kernelspec": {
   "display_name": "Python 3 (ipykernel)",
   "language": "python",
   "name": "python3"
  },
  "language_info": {
   "codemirror_mode": {
    "name": "ipython",
    "version": 3
   },
   "file_extension": ".py",
   "mimetype": "text/x-python",
   "name": "python",
   "nbconvert_exporter": "python",
   "pygments_lexer": "ipython3",
   "version": "3.9.19"
  }
 },
 "nbformat": 4,
 "nbformat_minor": 5
}
